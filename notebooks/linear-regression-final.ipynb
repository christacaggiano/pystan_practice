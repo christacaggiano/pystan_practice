{
 "cells": [
  {
   "cell_type": "markdown",
   "metadata": {},
   "source": [
    "# PyStan Practice\n",
    "## Linear Regression\n",
    "\n",
    "Christa Caggiano, Zaitlen Lab, Dec 2018 \n",
    "\n",
    "\n",
    "**Sources:** https://towardsdatascience.com/an-introduction-to-bayesian-inference-in-pystan-c27078e58d53"
   ]
  },
  {
   "cell_type": "markdown",
   "metadata": {},
   "source": [
    "### Imports"
   ]
  },
  {
   "cell_type": "code",
   "execution_count": 1,
   "metadata": {},
   "outputs": [],
   "source": [
    "import pystan\n",
    "import numpy as np\n",
    "import matplotlib.pyplot as plt\n",
    "import pandas as pd"
   ]
  },
  {
   "cell_type": "markdown",
   "metadata": {},
   "source": [
    "### Data Generation"
   ]
  },
  {
   "cell_type": "code",
   "execution_count": 2,
   "metadata": {},
   "outputs": [],
   "source": [
    "# number of points to generate \n",
    "\n",
    "n = 100"
   ]
  },
  {
   "cell_type": "code",
   "execution_count": 3,
   "metadata": {},
   "outputs": [],
   "source": [
    "# generate x values that are random numbers between 0 and 1 \n",
    "\n",
    "x = np.random.rand(n)"
   ]
  },
  {
   "cell_type": "code",
   "execution_count": 4,
   "metadata": {},
   "outputs": [],
   "source": [
    "# generate y's from y = mx + b \n",
    "\n",
    "m = 1 \n",
    "b = 0.1 \n",
    "error = 0.1\n",
    "\n",
    "y = np.random.normal((m*x)+b, error)"
   ]
  },
  {
   "cell_type": "code",
   "execution_count": 5,
   "metadata": {},
   "outputs": [
    {
     "data": {
      "image/png": "[encoded data removed]",
      "text/plain": [
       "<Figure size 432x288 with 1 Axes>"
      ]
     },
     "metadata": {
      "needs_background": "light"
     },
     "output_type": "display_data"
    }
   ],
   "source": [
    "# plot data to ensure linear relationship \n",
    "\n",
    "plt.scatter(x, y, color=\"darkturquoise\")\n",
    "plt.xlabel(\"X\")\n",
    "plt.ylabel(\"Y\")\n",
    "plt.title(\"simulated linear data\")\n",
    "plt.grid(True)\n",
    "\n",
    "plt.show()"
   ]
  },
  {
   "cell_type": "markdown",
   "metadata": {},
   "source": [
    "### Define PyStan model "
   ]
  },
  {
   "cell_type": "code",
   "execution_count": 6,
   "metadata": {},
   "outputs": [],
   "source": [
    "# define model \n",
    "\n",
    "linear_regression = \"\"\"\n",
    "data {\n",
    "    # input to model fitting \n",
    "    int<lower=0> N; // number of points, must be greater than 0 \n",
    "    vector[N] x; // x values\n",
    "    vector[N] y; // y values \n",
    "}\n",
    "parameters {\n",
    "    # parameters to estimate \n",
    "    real m; // real number   \n",
    "    real b; // real number \n",
    "    real<lower=0> error; // must be > 0 \n",
    "}\n",
    "model {\n",
    "    y ~ normal((m*x) + b, error); // model w/ normal distribution \n",
    "}\n",
    "\"\"\""
   ]
  },
  {
   "cell_type": "markdown",
   "metadata": {},
   "source": [
    "### Compile model "
   ]
  },
  {
   "cell_type": "code",
   "execution_count": 7,
   "metadata": {},
   "outputs": [
    {
     "name": "stderr",
     "output_type": "stream",
     "text": [
      "INFO:pystan:COMPILING THE C++ CODE FOR MODEL anon_model_de4dbaf2649647f0b3d4bb71095bcb9a NOW.\n",
      "/Users/Christa.Caggiano/miniconda3/envs/stan/lib/python3.7/site-packages/Cython/Compiler/Main.py:367: FutureWarning: Cython directive 'language_level' not set, using 2 for now (Py2). This will change in a later release! File: /var/folders/m4/h85zk1hs5kzcdnmhsppglh2m0000gn/T/tmpohqdm26j/stanfit4anon_model_de4dbaf2649647f0b3d4bb71095bcb9a_6347261662404069191.pyx\n",
      "  tree = Parsing.p_module(s, pxd, full_module_name)\n"
     ]
    }
   ],
   "source": [
    "# compile model, may take a few seconds \n",
    "\n",
    "lr1 = pystan.StanModel(model_code=linear_regression)  # linear regression model 1 "
   ]
  },
  {
   "cell_type": "markdown",
   "metadata": {},
   "source": [
    "### Fit model "
   ]
  },
  {
   "cell_type": "code",
   "execution_count": 23,
   "metadata": {},
   "outputs": [],
   "source": [
    "data = {'N': n, 'x': x, 'y': y}  # input the simulated data as a dictionary \n",
    "\n",
    "# fit model\n",
    "# data dictionary\n",
    "# 1,000 iterations- number of steps of model \n",
    "# 4 chains to run simultaneously- limit of macbook, could be \n",
    "# 500 warmups- number of iterations for MCMC to stabilize, are discarded after \n",
    "\n",
    "fit1 = lr1.sampling(data=data, iter=1000, chains=4, warmup=500, thin=1, seed=101)  "
   ]
  },
  {
   "cell_type": "code",
   "execution_count": 24,
   "metadata": {},
   "outputs": [],
   "source": [
    "m_est = fit1['m']\n",
    "b_est = fit1['b']\n",
    "error_est = fit1['error']"
   ]
  },
  {
   "cell_type": "markdown",
   "metadata": {},
   "source": [
    "### Summarize"
   ]
  },
  {
   "cell_type": "code",
   "execution_count": 25,
   "metadata": {},
   "outputs": [],
   "source": [
    "summary_dict1 = fit1.summary()\n",
    "summary1 = pd.DataFrame(summary_dict1[\"summary\"], columns=summary_dict1[\"summary_colnames\"], index=summary_dict1[\"summary_rownames\"])"
   ]
  },
  {
   "cell_type": "code",
   "execution_count": 26,
   "metadata": {},
   "outputs": [],
   "source": [
    "b_mean, m_mean, error_mean = summary1[\"mean\"][\"b\"], summary1[\"mean\"][\"m\"], summary1[\"mean\"][\"error\"]\n",
    "b_upper, b_lower = summary1[\"2.5%\"][\"b\"], summary1[\"97.5%\"][\"b\"]\n",
    "m_upper, m_lower = summary1[\"2.5%\"][\"m\"], summary1[\"97.5%\"][\"m\"]"
   ]
  },
  {
   "cell_type": "code",
   "execution_count": 27,
   "metadata": {},
   "outputs": [
    {
     "name": "stdout",
     "output_type": "stream",
     "text": [
      "-0.0072297965272583725\n"
     ]
    }
   ],
   "source": [
    "m_err = m_mean - m\n",
    "b_err = b_mean - b\n",
    "e_err = error_mean - error\n",
    "\n",
    "avg_error = (m_err + b_err + e_err)/3\n",
    "print(avg_error)"
   ]
  },
  {
   "cell_type": "markdown",
   "metadata": {},
   "source": [
    "### Plot"
   ]
  },
  {
   "cell_type": "code",
   "execution_count": 13,
   "metadata": {},
   "outputs": [
    {
     "data": {
      "image/png": "[encoded data removed]",
      "text/plain": [
       "<Figure size 432x288 with 2 Axes>"
      ]
     },
     "metadata": {
      "needs_background": "light"
     },
     "output_type": "display_data"
    }
   ],
   "source": [
    "fig, axes = plt.subplots(1, 2, sharey=True)\n",
    "\n",
    "axes[0].hist(b_est, color=\"darkturquoise\")\n",
    "axes[0].axvline(b_est.mean(), color=\"black\", linestyle=\"dashed\", linewidth=1, label=\"b mean estimate\")\n",
    "axes[0].axvline(b_upper, color=\"grey\", linestyle=\"dashed\", linewidth=1, label=\"upper CI\")\n",
    "axes[0].axvline(b_lower, color=\"grey\", linestyle=\"dashed\", linewidth=1, label=\"lower CI\")\n",
    "axes[0].set_xlabel(\"b estimate\")\n",
    "\n",
    "axes[1].hist(m_est, color=\"darkturquoise\")\n",
    "axes[1].axvline(m_est.mean(), color=\"black\", linestyle=\"dashed\", linewidth=1, label=\"mean estimate\")\n",
    "axes[1].axvline(m_upper, color=\"grey\", linestyle=\"dashed\", linewidth=1, label=\"upper CI\")\n",
    "axes[1].axvline(m_lower, color=\"grey\", linestyle=\"dashed\", linewidth=1, label=\"lower CI\")\n",
    "axes[1].set_xlabel(\"m estimate\")\n",
    "axes[1].legend(loc=9, bbox_to_anchor=(1.5, 1))\n",
    "\n",
    "fig.suptitle(\"1,000 iterations posterior distribution\")\n",
    "plt.show()"
   ]
  },
  {
   "cell_type": "markdown",
   "metadata": {},
   "source": [
    "### Fit with more iterations"
   ]
  },
  {
   "cell_type": "code",
   "execution_count": 14,
   "metadata": {},
   "outputs": [],
   "source": [
    "# increase the number of iterations by 100x, warmup is 20% \n",
    "\n",
    "fit2 = lr1.sampling(data=data, iter=100000, chains=4, warmup=5000, thin=1, seed=101)  "
   ]
  },
  {
   "cell_type": "markdown",
   "metadata": {},
   "source": [
    "### Re-summarize"
   ]
  },
  {
   "cell_type": "code",
   "execution_count": 16,
   "metadata": {},
   "outputs": [],
   "source": [
    "m_est, b_est = fit2['m'], fit2['b']\n",
    "error_est = fit2['error']\n",
    "\n",
    "summary_dict2 = fit2.summary()\n",
    "summary2 = pd.DataFrame(summary_dict2[\"summary\"], columns=summary_dict2[\"summary_colnames\"], index=summary_dict2[\"summary_rownames\"])"
   ]
  },
  {
   "cell_type": "code",
   "execution_count": 17,
   "metadata": {},
   "outputs": [],
   "source": [
    "b_mean, m_mean, error_mean = summary2[\"mean\"][\"b\"], summary2[\"mean\"][\"m\"], summary2[\"mean\"][\"error\"]\n",
    "b_upper, b_lower = summary2[\"2.5%\"][\"b\"], summary2[\"97.5%\"][\"b\"]\n",
    "m_upper, m_lower = summary2[\"2.5%\"][\"m\"], summary2[\"97.5%\"][\"m\"]"
   ]
  },
  {
   "cell_type": "code",
   "execution_count": 22,
   "metadata": {},
   "outputs": [
    {
     "name": "stdout",
     "output_type": "stream",
     "text": [
      "-0.00753899064972952\n"
     ]
    }
   ],
   "source": [
    "m_err = m_mean - m\n",
    "b_err = b_mean - b\n",
    "e_err = error_mean - error\n",
    "\n",
    "avg_error = (m_err + b_err + e_err)/3\n",
    "print(avg_error)"
   ]
  },
  {
   "cell_type": "markdown",
   "metadata": {},
   "source": [
    "### Re-plot"
   ]
  },
  {
   "cell_type": "code",
   "execution_count": 19,
   "metadata": {},
   "outputs": [
    {
     "data": {
      "image/png": "[encoded data removed]",
      "text/plain": [
       "<Figure size 432x288 with 2 Axes>"
      ]
     },
     "metadata": {
      "needs_background": "light"
     },
     "output_type": "display_data"
    }
   ],
   "source": [
    "fig, axes = plt.subplots(1, 2, sharey=True)\n",
    "\n",
    "axes[0].hist(b_est, color=\"darkturquoise\")\n",
    "axes[0].axvline(b_est.mean(), color=\"black\", linestyle=\"dashed\", linewidth=1, label=\"b mean estimate\")\n",
    "axes[0].axvline(b_upper, color=\"grey\", linestyle=\"dashed\", linewidth=1, label=\"upper CI\")\n",
    "axes[0].axvline(b_lower, color=\"grey\", linestyle=\"dashed\", linewidth=1, label=\"lower CI\")\n",
    "axes[0].set_xlabel(\"b estimate\")\n",
    "\n",
    "axes[1].hist(m_est, color=\"darkturquoise\")\n",
    "axes[1].axvline(m_est.mean(), color=\"black\", linestyle=\"dashed\", linewidth=1, label=\"mean estimate\")\n",
    "axes[1].axvline(m_upper, color=\"grey\", linestyle=\"dashed\", linewidth=1, label=\"upper CI\")\n",
    "axes[1].axvline(m_lower, color=\"grey\", linestyle=\"dashed\", linewidth=1, label=\"lower CI\")\n",
    "axes[1].set_xlabel(\"m estimate\")\n",
    "axes[1].legend(loc=9, bbox_to_anchor=(1.5, 1))\n",
    "\n",
    "fig.suptitle(\"100,000 iterations posterior distribution\")\n",
    "plt.show()"
   ]
  },
  {
   "cell_type": "markdown",
   "metadata": {},
   "source": [
    "Interestingly, 100,000 iterations is not more accurate than 1,000? \n",
    "\n",
    "\n",
    "**1,000 iterations error:** 0.007\n",
    "\n",
    "\n",
    "**100,000 iterations error:** 0.008 \n"
   ]
  },
  {
   "cell_type": "code",
   "execution_count": null,
   "metadata": {},
   "outputs": [],
   "source": []
  }
 ],
 "metadata": {
  "kernelspec": {
   "display_name": "Python 3",
   "language": "python",
   "name": "python3"
  },
  "language_info": {
   "codemirror_mode": {
    "name": "ipython",
    "version": 3
   },
   "file_extension": ".py",
   "mimetype": "text/x-python",
   "name": "python",
   "nbconvert_exporter": "python",
   "pygments_lexer": "ipython3",
   "version": "3.7.1"
  }
 },
 "nbformat": 4,
 "nbformat_minor": 2
}
