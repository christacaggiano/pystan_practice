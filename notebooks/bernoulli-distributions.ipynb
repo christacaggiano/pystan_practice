{
 "cells": [
  {
   "cell_type": "markdown",
   "metadata": {},
   "source": [
    "# PyStan Practice\n",
    "## Bernoulli distribution \n",
    "\n",
    "Christa Caggiano, Zaitlen Lab, Dec 2018 \n",
    "\n",
    "\n",
    "**Sources:** [*Bayesian Data Analysis*](https://the-eye.eu/public/Books/qt.vidyagam.es/library/Monitoring%20and%20Analysis/Bayesian%20Data%20Analysis%2C%20Third%20Edition/Bayesian%20Data%20Analysis%2C%20Third%20Edition%20-%20Andrew%20Gelman%20%26%20John%20B.%20Carlin%20%26%20Hal%20S.%20Stern%20%26%20David%20B.%20Dunson%20%26%20Aki%20Vehtari%20%26%20Donald%20B.%20Rubin.pdf), [World Bank Sex Rate at Birth Dataset](https://data.worldbank.org/indicator/SP.POP.BRTH.MF)"
   ]
  },
  {
   "cell_type": "markdown",
   "metadata": {},
   "source": [
    "### Imports"
   ]
  },
  {
   "cell_type": "code",
   "execution_count": 2,
   "metadata": {},
   "outputs": [],
   "source": [
    "import pystan \n",
    "import pandas as pd "
   ]
  },
  {
   "cell_type": "markdown",
   "metadata": {},
   "source": [
    "### Load Real Data"
   ]
  },
  {
   "cell_type": "code",
   "execution_count": null,
   "metadata": {},
   "outputs": [],
   "source": [
    "male_births = pd.read_csv(\"data/\")"
   ]
  }
 ],
 "metadata": {
  "kernelspec": {
   "display_name": "Python 3",
   "language": "python",
   "name": "python3"
  },
  "language_info": {
   "codemirror_mode": {
    "name": "ipython",
    "version": 3
   },
   "file_extension": ".py",
   "mimetype": "text/x-python",
   "name": "python",
   "nbconvert_exporter": "python",
   "pygments_lexer": "ipython3",
   "version": "3.7.1"
  }
 },
 "nbformat": 4,
 "nbformat_minor": 2
}
